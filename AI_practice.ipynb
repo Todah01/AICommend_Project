{
  "nbformat": 4,
  "nbformat_minor": 0,
  "metadata": {
    "colab": {
      "provenance": [],
      "include_colab_link": true
    },
    "kernelspec": {
      "name": "python3",
      "display_name": "Python 3"
    }
  },
  "cells": [
    {
      "cell_type": "markdown",
      "metadata": {
        "id": "view-in-github",
        "colab_type": "text"
      },
      "source": [
        "<a href=\"https://colab.research.google.com/github/Todah01/AICommend_Project/blob/main/AI_practice.ipynb\" target=\"_parent\"><img src=\"https://colab.research.google.com/assets/colab-badge.svg\" alt=\"Open In Colab\"/></a>"
      ]
    },
    {
      "cell_type": "code",
      "metadata": {
        "id": "53RIAj-YT6Sg"
      },
      "source": [
        "import numpy as np\n",
        "\n",
        "def sigmoid(x):\n",
        "    return 1/(1+np.exp(-x))\n",
        "\n",
        "def init_network():\n",
        "    network = {}\n",
        "    network['W1'] = np.array([[0.1,0.3,0.5],[0.2,0.4,0.6]])\n",
        "    network['b1'] = np.array([0.1,0.2,0.3])\n",
        "    network['W2'] = np.array([[0.1,0.4],[0.2,0.5],[0.3,0.6]])\n",
        "    network['b2'] = np.array([0.1,0.2])\n",
        "    network['W3'] = np.array([[0.1,0.3],[0.2,0.4]])\n",
        "    network['b3'] = np.array([0.1,0.2])\n",
        "\n",
        "    return network\n",
        "\n",
        "def forward(network, x):\n",
        "    W1,W2,W3 = network['W1'], network['W2'], network['W3']\n",
        "    b1,b2,b3 = network['b1'], network['b2'], network['b3']\n",
        "    a1 = np.dot(x,W1)+b1\n",
        "    z1 = sigmoid(a1)\n",
        "    a2 = np.dot(z1,W2)+b2\n",
        "    z2 = sigmoid(a2)\n",
        "    a3 = np.dot(z2,W3)+b3\n",
        "    y = sigmoid(a3)\n",
        "\n",
        "    return y"
      ],
      "execution_count": null,
      "outputs": []
    },
    {
      "cell_type": "code",
      "metadata": {
        "id": "DYeWyY75T-D0",
        "outputId": "21147018-7b0f-4232-c804-e866f4328446",
        "colab": {
          "base_uri": "https://localhost:8080/",
          "height": 34
        }
      },
      "source": [
        "network = init_network()\n",
        "x = np.array([-3.0,-10.0])\n",
        "forward(network,x)"
      ],
      "execution_count": null,
      "outputs": [
        {
          "output_type": "execute_result",
          "data": {
            "text/plain": [
              "array([0.56585985, 0.64170113])"
            ]
          },
          "metadata": {
            "tags": []
          },
          "execution_count": 4
        }
      ]
    },
    {
      "cell_type": "markdown",
      "metadata": {
        "id": "V5P3htDXV_3B"
      },
      "source": [
        "## 출력층"
      ]
    },
    {
      "cell_type": "code",
      "metadata": {
        "id": "mPEMYyphWBZm",
        "outputId": "c1abf251-bb0c-460b-829f-727b6c89af35",
        "colab": {
          "base_uri": "https://localhost:8080/",
          "height": 34
        }
      },
      "source": [
        "# softmax\n",
        "import numpy as np\n",
        "a = np.array([0.3,2.9,4.0])\n",
        "def softmax(x):\n",
        "    C = np.max(x)\n",
        "    return np.exp(x-C)/np.sum(np.exp(x-C))\n",
        "softmax(a)"
      ],
      "execution_count": null,
      "outputs": [
        {
          "output_type": "execute_result",
          "data": {
            "text/plain": [
              "array([0.01821127, 0.24519181, 0.73659691])"
            ]
          },
          "metadata": {
            "tags": []
          },
          "execution_count": 9
        }
      ]
    },
    {
      "cell_type": "code",
      "metadata": {
        "id": "SBAfc0qlXZLw",
        "outputId": "54c4111e-af96-42d0-a362-f14e93fadfc8",
        "colab": {
          "base_uri": "https://localhost:8080/",
          "height": 34
        }
      },
      "source": [
        "# softmax error\n",
        "a = np.array([1010,1000,990])\n",
        "softmax(a)"
      ],
      "execution_count": null,
      "outputs": [
        {
          "output_type": "execute_result",
          "data": {
            "text/plain": [
              "array([9.99954600e-01, 4.53978686e-05, 2.06106005e-09])"
            ]
          },
          "metadata": {
            "tags": []
          },
          "execution_count": 11
        }
      ]
    },
    {
      "cell_type": "markdown",
      "metadata": {
        "id": "XkF8oQctZewT"
      },
      "source": [
        "## 출력층을 Softmax로 변경한 인공신경망"
      ]
    },
    {
      "cell_type": "code",
      "metadata": {
        "id": "GHzxhvdEZjxl",
        "outputId": "b9dca681-bbee-4d35-bb5f-c4f67102220f",
        "colab": {
          "base_uri": "https://localhost:8080/",
          "height": 34
        }
      },
      "source": [
        "import numpy as np\n",
        "\n",
        "def sigmoid(x):\n",
        "    return 1/(1+np.exp(-x))\n",
        "\n",
        "def init_network():\n",
        "    network = {}\n",
        "    network['W1'] = np.array([[0.1,0.3,0.5],[0.2,0.4,0.6]])\n",
        "    network['b1'] = np.array([0.1,0.2,0.3])\n",
        "    network['W2'] = np.array([[0.1,0.4],[0.2,0.5],[0.3,0.6]])\n",
        "    network['b2'] = np.array([0.1,0.2])\n",
        "    network['W3'] = np.array([[0.1,0.3],[0.2,0.4]])\n",
        "    network['b3'] = np.array([0.1,0.2])\n",
        "\n",
        "    return network\n",
        "\n",
        "def forward(network, x):\n",
        "    W1,W2,W3 = network['W1'], network['W2'], network['W3']\n",
        "    b1,b2,b3 = network['b1'], network['b2'], network['b3']\n",
        "    a1 = np.dot(x,W1)+b1\n",
        "    z1 = sigmoid(a1)\n",
        "    a2 = np.dot(z1,W2)+b2\n",
        "    z2 = sigmoid(a2)\n",
        "    a3 = np.dot(z2,W3)+b3\n",
        "    y = softmax(a3)\n",
        "\n",
        "    return y\n",
        "\n",
        "network = init_network()\n",
        "x = np.array([13.0,-100])\n",
        "forward(network,x)"
      ],
      "execution_count": null,
      "outputs": [
        {
          "output_type": "execute_result",
          "data": {
            "text/plain": [
              "array([0.42190388, 0.57809612])"
            ]
          },
          "metadata": {
            "tags": []
          },
          "execution_count": 14
        }
      ]
    },
    {
      "cell_type": "markdown",
      "metadata": {
        "id": "1_X_ZvDha3_c"
      },
      "source": [
        "## MNIST dataset"
      ]
    },
    {
      "cell_type": "code",
      "metadata": {
        "id": "-Wupr-WKa650",
        "outputId": "262c9e92-340c-46a1-9593-ceb0f93639cd",
        "colab": {
          "base_uri": "https://localhost:8080/",
          "height": 52
        }
      },
      "source": [
        "from keras.datasets import mnist\n",
        "(x_train,y_train),(x_test,y_test)=mnist.load_data() #x는 입력값에 사용 y는 정답\n",
        "x_train=x_train/255.\n",
        "x_test=x_test/255. # 픽셀이 0부터 255까지의 값을 가지고 있어서 -> 0~1사이의 값을 갖도록 표준화\n",
        "x_train=x_train.reshape(60000,784)\n",
        "x_test=x_test.reshape(10000,784)\n"
      ],
      "execution_count": null,
      "outputs": [
        {
          "output_type": "stream",
          "text": [
            "Downloading data from https://storage.googleapis.com/tensorflow/tf-keras-datasets/mnist.npz\n",
            "11493376/11490434 [==============================] - 0s 0us/step\n"
          ],
          "name": "stdout"
        }
      ]
    },
    {
      "cell_type": "code",
      "metadata": {
        "id": "Jz8aHfjGbtgb",
        "outputId": "73ce7b1e-a554-4d0a-d1eb-e501a6667b0e",
        "colab": {
          "base_uri": "https://localhost:8080/",
          "height": 86
        }
      },
      "source": [
        "print(x_train.shape) # 이번실습에서 사용\n",
        "print(y_train.shape)\n",
        "print(x_test.shape)\n",
        "print(y_test.shape)"
      ],
      "execution_count": null,
      "outputs": [
        {
          "output_type": "stream",
          "text": [
            "(60000, 784)\n",
            "(60000,)\n",
            "(10000, 784)\n",
            "(10000,)\n"
          ],
          "name": "stdout"
        }
      ]
    },
    {
      "cell_type": "code",
      "metadata": {
        "id": "oUmKUve9cHkb",
        "outputId": "20f85dc2-6600-47db-a07b-c815cc4f3cdd",
        "colab": {
          "base_uri": "https://localhost:8080/",
          "height": 282
        }
      },
      "source": [
        "import matplotlib.pyplot as plt\n",
        "idx=9\n",
        "img = x_train[idx] # 0번째 데이터의 사진\n",
        "label = y_train[idx] # 0번째 데이터의 실제 정답\n",
        "img = img.reshape(28,28)\n",
        "plt.imshow(img)\n",
        "print(label)"
      ],
      "execution_count": null,
      "outputs": [
        {
          "output_type": "stream",
          "text": [
            "4\n"
          ],
          "name": "stdout"
        },
        {
          "output_type": "display_data",
          "data": {
            "image/png": "[encoded data removed]",
            "text/plain": [
              "<Figure size 432x288 with 1 Axes>"
            ]
          },
          "metadata": {
            "tags": [],
            "needs_background": "light"
          }
        }
      ]
    },
    {
      "cell_type": "markdown",
      "metadata": {
        "id": "z3VuCsj1em2e"
      },
      "source": [
        "## MNIST 처리 신경망 구성"
      ]
    },
    {
      "cell_type": "code",
      "metadata": {
        "id": "t0VZcDn1eqXB"
      },
      "source": [
        "from keras.datasets import mnist\n",
        "\n",
        "def get_data():\n",
        "    (x_train,y_train),(x_test,y_test)=mnist.load_data() #x는 입력값에 사용 y는 정답\n",
        "    x_train=x_train/255.\n",
        "    x_test=x_test/255. # 픽셀이 0부터 255까지의 값을 가지고 있어서 -> 0~1사이의 값을 갖도록 표준화\n",
        "    x_train=x_train.reshape(60000,784)\n",
        "    x_test=x_test.reshape(10000,784)\n",
        "    return x_train, y_train\n",
        "\n",
        "def init_network():\n",
        "    network={}\n",
        "    network['W1'] = np.random.normal(size=(784,50))\n",
        "    network['B1'] = np.random.normal(size=(50,))\n",
        "    network['W2'] = np.random.normal(size=(50,100))\n",
        "    network['B2'] = np.random.normal(size=(100,))\n",
        "    network['W3'] = np.random.normal(size=(100,10))\n",
        "    network['B3'] = np.random.normal(size=(10,))\n",
        "    return network\n",
        "\n",
        "def predict(network, x):\n",
        "    W1,W2,W3 = network['W1'], network['W2'], network['W3']\n",
        "    b1,b2,b3 = network['B1'], network['B2'], network['B3']\n",
        "\n",
        "    a1 = np.dot(x,W1)+b1\n",
        "    z1 = sigmoid(a1)\n",
        "    a2 = np.dot(z1,W2)+b2\n",
        "    z2 = sigmoid(a2)\n",
        "    a3 = np.dot(z2,W3)+b3\n",
        "    y = softmax(a3)\n",
        "    return y\n"
      ],
      "execution_count": null,
      "outputs": []
    },
    {
      "cell_type": "code",
      "metadata": {
        "id": "WeqLa-dHhAfM"
      },
      "source": [
        "network = init_network()\n",
        "x_train,y_train=get_data()"
      ],
      "execution_count": null,
      "outputs": []
    },
    {
      "cell_type": "code",
      "metadata": {
        "id": "MIPs9OCYhEAV",
        "outputId": "fea3d8a4-4d2e-44c5-aa67-54332a22413f",
        "colab": {
          "base_uri": "https://localhost:8080/",
          "height": 34
        }
      },
      "source": [
        "pred=predict(network, x_train[5])\n",
        "np.argmax(pred)"
      ],
      "execution_count": null,
      "outputs": [
        {
          "output_type": "execute_result",
          "data": {
            "text/plain": [
              "2"
            ]
          },
          "metadata": {
            "tags": []
          },
          "execution_count": 41
        }
      ]
    },
    {
      "cell_type": "markdown",
      "metadata": {
        "id": "d8RRlc4nha4U"
      },
      "source": [
        "## 예측의 정확도 측정"
      ]
    },
    {
      "cell_type": "code",
      "metadata": {
        "id": "jhsO1wFrgvjc",
        "outputId": "676c9fab-e0ec-4192-8e60-ec1cfba09396",
        "colab": {
          "base_uri": "https://localhost:8080/",
          "height": 34
        }
      },
      "source": [
        "accuracy_cnt = 0\n",
        "for i in range(len(x_train)):\n",
        "    pred = predict(network, x_train[i])\n",
        "    p = np.argmax(pred)\n",
        "    if p == y_train[i]:\n",
        "        accuracy_cnt += 1\n",
        "\n",
        "float(accuracy_cnt)/len(x_train)"
      ],
      "execution_count": null,
      "outputs": [
        {
          "output_type": "execute_result",
          "data": {
            "text/plain": [
              "0.06583333333333333"
            ]
          },
          "metadata": {
            "tags": []
          },
          "execution_count": 53
        }
      ]
    },
    {
      "cell_type": "code",
      "metadata": {
        "id": "T2YpdxqgkbfT",
        "outputId": "7410f5dc-18f2-44fa-eab6-095728c49376",
        "colab": {
          "base_uri": "https://localhost:8080/",
          "height": 34
        }
      },
      "source": [
        "a = np.array(([1,3,6],[2,1,4]))\n",
        "np.argmax(a,axis=0)"
      ],
      "execution_count": null,
      "outputs": [
        {
          "output_type": "execute_result",
          "data": {
            "text/plain": [
              "array([1, 0, 0])"
            ]
          },
          "metadata": {
            "tags": []
          },
          "execution_count": 47
        }
      ]
    },
    {
      "cell_type": "code",
      "metadata": {
        "id": "cxwIiSO1l2AX",
        "outputId": "66b69bde-6678-4245-a79e-a4a12b99eda3",
        "colab": {
          "base_uri": "https://localhost:8080/",
          "height": 34
        }
      },
      "source": [
        "a = np.array([1,3,4])\n",
        "b = np.array([1,0,4])\n",
        "np.sum(a == b)"
      ],
      "execution_count": null,
      "outputs": [
        {
          "output_type": "execute_result",
          "data": {
            "text/plain": [
              "2"
            ]
          },
          "metadata": {
            "tags": []
          },
          "execution_count": 49
        }
      ]
    },
    {
      "cell_type": "markdown",
      "metadata": {
        "id": "cJsWf5UamPP0"
      },
      "source": [
        "## 배치처리"
      ]
    },
    {
      "cell_type": "code",
      "metadata": {
        "id": "ri-PNHOmmOha",
        "outputId": "aab1728a-5a07-4c63-c2a7-6afe15b0b151",
        "colab": {
          "base_uri": "https://localhost:8080/",
          "height": 34
        }
      },
      "source": [
        "accuracy_cnt = 0\n",
        "batch_size = 100\n",
        "for i in range(0,len(x_train),batch_size):\n",
        "    x_batch = x_train[i:i+batch_size]\n",
        "    pred = predict(network,x_batch)\n",
        "    p = np.argmax(pred,axis=1)\n",
        "    accuracy_cnt += np.sum(p==y_train[i:i+batch_size])\n",
        "\n",
        "float(accuracy_cnt)/len(x_train)\n"
      ],
      "execution_count": null,
      "outputs": [
        {
          "output_type": "execute_result",
          "data": {
            "text/plain": [
              "0.06583333333333333"
            ]
          },
          "metadata": {
            "tags": []
          },
          "execution_count": 54
        }
      ]
    },
    {
      "cell_type": "code",
      "metadata": {
        "id": "b4vW35aZowom"
      },
      "source": [
        "import pandas as pd\n",
        "df=pd.read_csv('https://raw.githubusercontent.com/ralbu85/DataSet/master/iris.csv')\n",
        "data=np.array(df)\n",
        "x=data[:,:4]\n",
        "y=data[:,4].astype(int)"
      ],
      "execution_count": null,
      "outputs": []
    },
    {
      "cell_type": "code",
      "metadata": {
        "id": "r2vsvgPoo5I-"
      },
      "source": [
        "import pandas as pd\n",
        "import numpy as np\n",
        "\n",
        "def get_data():\n",
        "    df=pd.read_csv('https://raw.githubusercontent.com/ralbu85/DataSet/master/iris.csv')\n",
        "    data=np.array(df)\n",
        "    x=data[:,:4]\n",
        "    y=data[:,4].astype(int)\n",
        "    return x,y"
      ],
      "execution_count": null,
      "outputs": []
    },
    {
      "cell_type": "code",
      "metadata": {
        "id": "I6L3Y5IVpa2d",
        "outputId": "eb6b8ac6-4aa2-495f-8c78-5c600f6b7934",
        "colab": {
          "base_uri": "https://localhost:8080/",
          "height": 139
        }
      },
      "source": [
        "x_train,y_train = get_data()\n",
        "y_train"
      ],
      "execution_count": null,
      "outputs": [
        {
          "output_type": "execute_result",
          "data": {
            "text/plain": [
              "array([0, 0, 0, 0, 0, 0, 0, 0, 0, 0, 0, 0, 0, 0, 0, 0, 0, 0, 0, 0, 0, 0,\n",
              "       0, 0, 0, 0, 0, 0, 0, 0, 0, 0, 0, 0, 0, 0, 0, 0, 0, 0, 0, 0, 0, 0,\n",
              "       0, 0, 0, 0, 0, 0, 1, 1, 1, 1, 1, 1, 1, 1, 1, 1, 1, 1, 1, 1, 1, 1,\n",
              "       1, 1, 1, 1, 1, 1, 1, 1, 1, 1, 1, 1, 1, 1, 1, 1, 1, 1, 1, 1, 1, 1,\n",
              "       1, 1, 1, 1, 1, 1, 1, 1, 1, 1, 1, 1, 2, 2, 2, 2, 2, 2, 2, 2, 2, 2,\n",
              "       2, 2, 2, 2, 2, 2, 2, 2, 2, 2, 2, 2, 2, 2, 2, 2, 2, 2, 2, 2, 2, 2,\n",
              "       2, 2, 2, 2, 2, 2, 2, 2, 2, 2, 2, 2, 2, 2, 2, 2, 2, 2])"
            ]
          },
          "metadata": {
            "tags": []
          },
          "execution_count": 74
        }
      ]
    },
    {
      "cell_type": "code",
      "metadata": {
        "id": "KmfgNQ6GqbKG"
      },
      "source": [],
      "execution_count": null,
      "outputs": []
    }
  ]
}